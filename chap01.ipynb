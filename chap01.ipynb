{
 "cells": [
  {
   "cell_type": "markdown",
   "metadata": {},
   "source": [
    "# 「データから学習する能力」をコンピュータに与える\n",
    "---\n",
    "Giving Computers the Ability to Learn from Data"
   ]
  },
  {
   "cell_type": "markdown",
   "metadata": {},
   "source": [
    "## 1.0 Agenda\n",
    "\n",
    "- 機械学習の一般概念\n",
    "- 3種類の学習方法と用語\n",
    "- 上手く設計する方法\n",
    "- Python 及びその周辺のセットアップ\n",
    "\n",
    "## 1.1 機械学習の用例\n",
    "\n",
    "- メールスパムフィルタ（Gmailなど）\n",
    "- 文字・音声認識（Siri）\n",
    "- 検索エンジン\n",
    "- ゲームAI（AlphaGo）\n",
    "- 自動運転 などなど\n",
    "\n",
    "## 1.2 機械学習の大きな括り（3種類）\n",
    "\n",
    "- 教師あり学習（supervised）\n",
    "- 教師なし学習（unsupervised）\n",
    "- 強化学習（reinforcement）\n",
    "\n",
    "## 1.3 教師あり学習\n",
    "\n",
    "- ラベル付けされたトレーニングデータを元に傾向を予測\n",
    "- 分類（classification）: 離散値\n",
    "- 回帰（regression）: 連続値（確率値）\n",
    "\n",
    "> - トレーニングデータ: 訓練データ、学習データ\n",
    "> - コーパス: 機械学習などで用いるために整備されたデータ\n",
    "\n",
    "### 1.3.1 クラスラベルを予測する「分類」\n",
    "\n",
    "- 2値分類（binary）\n",
    "  - 例: スパムかそうじゃないか\n",
    "- 多値分類（多クラス分類）\n",
    "  - 例: 画像から0から9の数字認識\n",
    "- では何を元にクラスを決定付けるのか\n",
    "  - 例: 二次元空間であれば、$x_1$ と $x_2$ の値など\n",
    "  \n",
    "> - 決定境界（decision boundary）: クラスを分ける境界\n",
    "\n",
    "### 1.3.2 連続値を予測する「回帰」\n",
    "\n",
    "- 予測変数その応答変数の説明変数を元に、結果変数を求める\n",
    "  - 予測変数: $x$\n",
    "  - 応答変数: $y$\n",
    "  - 説明変数: 平均二乗誤差による線形回帰（$\\frac{1}{N}\\sum^{N}_{i=1}(w_0 + w_1 x^{(i)} - y^{(i)})^2$）\n",
    "  \n",
    "## 1.4 強化学習\n",
    "\n",
    "- 報酬を使う（パブロフの犬）"
   ]
  },
  {
   "cell_type": "code",
   "execution_count": null,
   "metadata": {
    "collapsed": true
   },
   "outputs": [],
   "source": []
  }
 ],
 "metadata": {
  "kernelspec": {
   "display_name": "Python 2",
   "language": "python",
   "name": "python2"
  },
  "language_info": {
   "codemirror_mode": {
    "name": "ipython",
    "version": 2
   },
   "file_extension": ".py",
   "mimetype": "text/x-python",
   "name": "python",
   "nbconvert_exporter": "python",
   "pygments_lexer": "ipython2",
   "version": "2.7.10"
  }
 },
 "nbformat": 4,
 "nbformat_minor": 0
}
